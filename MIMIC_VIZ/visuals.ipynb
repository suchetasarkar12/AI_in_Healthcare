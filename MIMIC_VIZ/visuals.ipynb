{
 "cells": [
  {
   "cell_type": "markdown",
   "metadata": {},
   "source": [
    "Sucheta Sarkar \\\n",
    "MIMIC Visualization Assignment \\\n",
    "Prof Ying Ding \\\n",
    "Due Date: Feb 3rd, 2025 "
   ]
  },
  {
   "cell_type": "markdown",
   "metadata": {},
   "source": [
    "Visual 1\n",
    "\n",
    "*Explanation"
   ]
  }
 ],
 "metadata": {
  "language_info": {
   "name": "python"
  }
 },
 "nbformat": 4,
 "nbformat_minor": 2
}
